{
 "cells": [
  {
   "cell_type": "code",
   "execution_count": 1,
   "metadata": {
    "colab": {
     "base_uri": "https://localhost:8080/"
    },
    "id": "Gpj5Eiaep_5b",
    "outputId": "e5586851-302a-4e94-c330-6db7f93ca370"
   },
   "outputs": [
    {
     "name": "stdout",
     "output_type": "stream",
     "text": [
      "2.3.0\n"
     ]
    }
   ],
   "source": [
    "import tensorflow as tf\n",
    "from tensorflow.keras.applications.vgg19 import preprocess_input\n",
    "from tensorflow.keras.models import Model\n",
    "import matplotlib.pyplot as plt\n",
    "import numpy as np\n",
    "np.random.seed(7)\n",
    "\n",
    "%matplotlib inline\n",
    "\n",
    "print(tf.__version__)"
   ]
  },
  {
   "cell_type": "code",
   "execution_count": 2,
   "metadata": {
    "colab": {
     "base_uri": "https://localhost:8080/",
     "height": 527
    },
    "id": "nsz40HtmqCT_",
    "outputId": "25af5623-f96f-4fe9-ff3b-8f14b8c9bfe9"
   },
   "outputs": [
    {
     "ename": "FileNotFoundError",
     "evalue": "[Errno 2] No such file or directory: \"Neural Style Transfer/Joan Miró by Tutt'Art@ - (6).jpg\"",
     "output_type": "error",
     "traceback": [
      "\u001b[1;31m---------------------------------------------------------------------------\u001b[0m",
      "\u001b[1;31mFileNotFoundError\u001b[0m                         Traceback (most recent call last)",
      "\u001b[1;32m<ipython-input-2-7247ac9c4b37>\u001b[0m in \u001b[0;36m<module>\u001b[1;34m\u001b[0m\n\u001b[0;32m      1\u001b[0m \u001b[1;31m# Load the content and style images\u001b[0m\u001b[1;33m\u001b[0m\u001b[1;33m\u001b[0m\u001b[1;33m\u001b[0m\u001b[0m\n\u001b[0;32m      2\u001b[0m \u001b[0mcontent\u001b[0m \u001b[1;33m=\u001b[0m \u001b[0mplt\u001b[0m\u001b[1;33m.\u001b[0m\u001b[0mimread\u001b[0m\u001b[1;33m(\u001b[0m\u001b[1;34m'Neural Style Transfer/photo.png'\u001b[0m\u001b[1;33m)\u001b[0m\u001b[1;33m\u001b[0m\u001b[1;33m\u001b[0m\u001b[0m\n\u001b[1;32m----> 3\u001b[1;33m \u001b[0mstyle\u001b[0m \u001b[1;33m=\u001b[0m \u001b[0mplt\u001b[0m\u001b[1;33m.\u001b[0m\u001b[0mimread\u001b[0m\u001b[1;33m(\u001b[0m\u001b[1;34m\"Neural Style Transfer/Joan Miró by Tutt'Art@ - (6).jpg\"\u001b[0m\u001b[1;33m)\u001b[0m\u001b[1;33m\u001b[0m\u001b[1;33m\u001b[0m\u001b[0m\n\u001b[0m\u001b[0;32m      4\u001b[0m \u001b[1;33m\u001b[0m\u001b[0m\n\u001b[0;32m      5\u001b[0m \u001b[1;31m# Display the images\u001b[0m\u001b[1;33m\u001b[0m\u001b[1;33m\u001b[0m\u001b[1;33m\u001b[0m\u001b[0m\n",
      "\u001b[1;32m~\\anaconda3\\envs\\dl\\lib\\site-packages\\matplotlib\\pyplot.py\u001b[0m in \u001b[0;36mimread\u001b[1;34m(fname, format)\u001b[0m\n\u001b[0;32m   2244\u001b[0m \u001b[1;33m@\u001b[0m\u001b[0m_copy_docstring_and_deprecators\u001b[0m\u001b[1;33m(\u001b[0m\u001b[0mmatplotlib\u001b[0m\u001b[1;33m.\u001b[0m\u001b[0mimage\u001b[0m\u001b[1;33m.\u001b[0m\u001b[0mimread\u001b[0m\u001b[1;33m)\u001b[0m\u001b[1;33m\u001b[0m\u001b[1;33m\u001b[0m\u001b[0m\n\u001b[0;32m   2245\u001b[0m \u001b[1;32mdef\u001b[0m \u001b[0mimread\u001b[0m\u001b[1;33m(\u001b[0m\u001b[0mfname\u001b[0m\u001b[1;33m,\u001b[0m \u001b[0mformat\u001b[0m\u001b[1;33m=\u001b[0m\u001b[1;32mNone\u001b[0m\u001b[1;33m)\u001b[0m\u001b[1;33m:\u001b[0m\u001b[1;33m\u001b[0m\u001b[1;33m\u001b[0m\u001b[0m\n\u001b[1;32m-> 2246\u001b[1;33m     \u001b[1;32mreturn\u001b[0m \u001b[0mmatplotlib\u001b[0m\u001b[1;33m.\u001b[0m\u001b[0mimage\u001b[0m\u001b[1;33m.\u001b[0m\u001b[0mimread\u001b[0m\u001b[1;33m(\u001b[0m\u001b[0mfname\u001b[0m\u001b[1;33m,\u001b[0m \u001b[0mformat\u001b[0m\u001b[1;33m)\u001b[0m\u001b[1;33m\u001b[0m\u001b[1;33m\u001b[0m\u001b[0m\n\u001b[0m\u001b[0;32m   2247\u001b[0m \u001b[1;33m\u001b[0m\u001b[0m\n\u001b[0;32m   2248\u001b[0m \u001b[1;33m\u001b[0m\u001b[0m\n",
      "\u001b[1;32m~\\anaconda3\\envs\\dl\\lib\\site-packages\\matplotlib\\image.py\u001b[0m in \u001b[0;36mimread\u001b[1;34m(fname, format)\u001b[0m\n\u001b[0;32m   1494\u001b[0m                     \u001b[0mresponse\u001b[0m \u001b[1;33m=\u001b[0m \u001b[0mio\u001b[0m\u001b[1;33m.\u001b[0m\u001b[0mBytesIO\u001b[0m\u001b[1;33m(\u001b[0m\u001b[0mresponse\u001b[0m\u001b[1;33m.\u001b[0m\u001b[0mread\u001b[0m\u001b[1;33m(\u001b[0m\u001b[1;33m)\u001b[0m\u001b[1;33m)\u001b[0m\u001b[1;33m\u001b[0m\u001b[1;33m\u001b[0m\u001b[0m\n\u001b[0;32m   1495\u001b[0m                 \u001b[1;32mreturn\u001b[0m \u001b[0mimread\u001b[0m\u001b[1;33m(\u001b[0m\u001b[0mresponse\u001b[0m\u001b[1;33m,\u001b[0m \u001b[0mformat\u001b[0m\u001b[1;33m=\u001b[0m\u001b[0mext\u001b[0m\u001b[1;33m)\u001b[0m\u001b[1;33m\u001b[0m\u001b[1;33m\u001b[0m\u001b[0m\n\u001b[1;32m-> 1496\u001b[1;33m     \u001b[1;32mwith\u001b[0m \u001b[0mimg_open\u001b[0m\u001b[1;33m(\u001b[0m\u001b[0mfname\u001b[0m\u001b[1;33m)\u001b[0m \u001b[1;32mas\u001b[0m \u001b[0mimage\u001b[0m\u001b[1;33m:\u001b[0m\u001b[1;33m\u001b[0m\u001b[1;33m\u001b[0m\u001b[0m\n\u001b[0m\u001b[0;32m   1497\u001b[0m         return (_pil_png_to_float_array(image)\n\u001b[0;32m   1498\u001b[0m                 \u001b[1;32mif\u001b[0m \u001b[0misinstance\u001b[0m\u001b[1;33m(\u001b[0m\u001b[0mimage\u001b[0m\u001b[1;33m,\u001b[0m \u001b[0mPIL\u001b[0m\u001b[1;33m.\u001b[0m\u001b[0mPngImagePlugin\u001b[0m\u001b[1;33m.\u001b[0m\u001b[0mPngImageFile\u001b[0m\u001b[1;33m)\u001b[0m \u001b[1;32melse\u001b[0m\u001b[1;33m\u001b[0m\u001b[1;33m\u001b[0m\u001b[0m\n",
      "\u001b[1;32m~\\anaconda3\\envs\\dl\\lib\\site-packages\\PIL\\Image.py\u001b[0m in \u001b[0;36mopen\u001b[1;34m(fp, mode, formats)\u001b[0m\n\u001b[0;32m   2902\u001b[0m \u001b[1;33m\u001b[0m\u001b[0m\n\u001b[0;32m   2903\u001b[0m     \u001b[1;32mif\u001b[0m \u001b[0mfilename\u001b[0m\u001b[1;33m:\u001b[0m\u001b[1;33m\u001b[0m\u001b[1;33m\u001b[0m\u001b[0m\n\u001b[1;32m-> 2904\u001b[1;33m         \u001b[0mfp\u001b[0m \u001b[1;33m=\u001b[0m \u001b[0mbuiltins\u001b[0m\u001b[1;33m.\u001b[0m\u001b[0mopen\u001b[0m\u001b[1;33m(\u001b[0m\u001b[0mfilename\u001b[0m\u001b[1;33m,\u001b[0m \u001b[1;34m\"rb\"\u001b[0m\u001b[1;33m)\u001b[0m\u001b[1;33m\u001b[0m\u001b[1;33m\u001b[0m\u001b[0m\n\u001b[0m\u001b[0;32m   2905\u001b[0m         \u001b[0mexclusive_fp\u001b[0m \u001b[1;33m=\u001b[0m \u001b[1;32mTrue\u001b[0m\u001b[1;33m\u001b[0m\u001b[1;33m\u001b[0m\u001b[0m\n\u001b[0;32m   2906\u001b[0m \u001b[1;33m\u001b[0m\u001b[0m\n",
      "\u001b[1;31mFileNotFoundError\u001b[0m: [Errno 2] No such file or directory: \"Neural Style Transfer/Joan Miró by Tutt'Art@ - (6).jpg\""
     ]
    }
   ],
   "source": [
    "# Load the content and style images\n",
    "content = plt.imread('Neural Style Transfer/photo.png')\n",
    "style = plt.imread(\"Neural Style Transfer/Joan Miró by Tutt'Art@ - (6).jpg\")\n",
    "\n",
    "# Display the images\n",
    "fig, (ax1, ax2) = plt.subplots(1, 2, figsize=(20, 10))\n",
    "\n",
    "# Content and style images side-by-side\n",
    "ax1.imshow(content)\n",
    "ax1.set_title('Content Image')\n",
    "ax2.imshow(style)\n",
    "ax2.set_title('Style Image')\n",
    "plt.show()"
   ]
  },
  {
   "cell_type": "code",
   "execution_count": 35,
   "metadata": {
    "id": "oOJrAFvpqsyl"
   },
   "outputs": [],
   "source": [
    "def load_image(image):\n",
    "  image = plt.imread(image)\n",
    "  img = tf.image.convert_image_dtype(image, tf.float32)\n",
    "  img = tf.image.resize(img, [400, 400])\n",
    "  # Shape -> (batch_size, h, w, d)\n",
    "  img = img[tf.newaxis, :]\n",
    "  return img"
   ]
  },
  {
   "cell_type": "code",
   "execution_count": 36,
   "metadata": {
    "colab": {
     "base_uri": "https://localhost:8080/"
    },
    "id": "eE9qywapqtZ8",
    "outputId": "6c1bfe89-df3b-42cc-f0c5-d804f1a7097a"
   },
   "outputs": [
    {
     "data": {
      "text/plain": [
       "(TensorShape([1, 400, 400, 3]), TensorShape([1, 400, 400, 3]))"
      ]
     },
     "execution_count": 36,
     "metadata": {
      "tags": []
     },
     "output_type": "execute_result"
    }
   ],
   "source": [
    "# Use load_image of content and style images\n",
    "content = load_image('drive/MyDrive/Neural Style Transfer/photo.png')\n",
    "style = load_image(\"drive/MyDrive/Neural Style Transfer/Joan Miró by Tutt'Art@ - (6).jpg\")\n",
    "\n",
    "# Verify the shapes\n",
    "content.shape, style.shape"
   ]
  },
  {
   "cell_type": "code",
   "execution_count": 37,
   "metadata": {
    "id": "9TyZCQRPqwjA"
   },
   "outputs": [],
   "source": [
    "vgg = tf.keras.applications.VGG19(include_top=False, weights='imagenet')\n",
    "vgg.trainable = False"
   ]
  },
  {
   "cell_type": "code",
   "execution_count": 38,
   "metadata": {
    "colab": {
     "base_uri": "https://localhost:8080/"
    },
    "id": "ZprHsGM2q5fg",
    "outputId": "2c18b295-6dd5-40a7-f68b-2cba22164d95"
   },
   "outputs": [
    {
     "name": "stdout",
     "output_type": "stream",
     "text": [
      "input_4\n",
      "block1_conv1\n",
      "block1_conv2\n",
      "block1_pool\n",
      "block2_conv1\n",
      "block2_conv2\n",
      "block2_pool\n",
      "block3_conv1\n",
      "block3_conv2\n",
      "block3_conv3\n",
      "block3_conv4\n",
      "block3_pool\n",
      "block4_conv1\n",
      "block4_conv2\n",
      "block4_conv3\n",
      "block4_conv4\n",
      "block4_pool\n",
      "block5_conv1\n",
      "block5_conv2\n",
      "block5_conv3\n",
      "block5_conv4\n",
      "block5_pool\n"
     ]
    }
   ],
   "source": [
    "for layer in vgg.layers:\n",
    "  print(layer.name)"
   ]
  },
  {
   "cell_type": "code",
   "execution_count": 39,
   "metadata": {
    "id": "T3ckC1_Krqsm"
   },
   "outputs": [],
   "source": [
    "model = tf.keras.models.load_model('drive/MyDrive/models/cnn_model5.h5')\n",
    "model.trainable = False"
   ]
  },
  {
   "cell_type": "code",
   "execution_count": 40,
   "metadata": {
    "colab": {
     "base_uri": "https://localhost:8080/"
    },
    "id": "ceorTyo9r6mt",
    "outputId": "0a240cab-e997-4604-8d87-81b7fc075357"
   },
   "outputs": [
    {
     "name": "stdout",
     "output_type": "stream",
     "text": [
      "conv2d_6\n",
      "conv2d_7\n",
      "max_pooling2d_3\n",
      "conv2d_8\n",
      "conv2d_9\n",
      "max_pooling2d_4\n",
      "conv2d_10\n",
      "conv2d_11\n",
      "max_pooling2d_5\n",
      "flatten_2\n",
      "dropout_7\n",
      "dense_8\n",
      "dropout_8\n",
      "dense_9\n",
      "dropout_9\n",
      "dense_10\n",
      "dropout_10\n",
      "dense_11\n"
     ]
    }
   ],
   "source": [
    "for layer in model.layers:\n",
    "  print(layer.name)"
   ]
  },
  {
   "cell_type": "code",
   "execution_count": 41,
   "metadata": {
    "id": "rWbtRUXCq7w_"
   },
   "outputs": [],
   "source": [
    "# Content layer\n",
    "content_layers = ['block4_conv2']\n",
    "content_layers_2 = ['block4_conv2']\n",
    "\n",
    "# Style layer\n",
    "style_layers = ['block1_conv1',\n",
    "                'block2_conv1',\n",
    "                'block3_conv1',\n",
    "                'block4_conv1',\n",
    "                'block5_conv1']\n",
    "\n",
    "style_layers_2 = ['block1_conv1',\n",
    "                'block2_conv1',\n",
    "                'block3_conv1',\n",
    "                'block4_conv1',\n",
    "                'block5_conv1']\n",
    "\n",
    "num_content_layers = len(content_layers)\n",
    "num_style_layers = len(style_layers)"
   ]
  },
  {
   "cell_type": "code",
   "execution_count": 42,
   "metadata": {
    "id": "_R4OTuDSq_HT"
   },
   "outputs": [],
   "source": [
    "def mini_model(layer_names, model):\n",
    "\n",
    "  outputs = [model.get_layer(name).output for name in layer_names]\n",
    "\n",
    "  model = Model([vgg.input], outputs)\n",
    "  return model"
   ]
  },
  {
   "cell_type": "code",
   "execution_count": 43,
   "metadata": {
    "id": "CUjhZIP-rBDU"
   },
   "outputs": [],
   "source": [
    "# Gram matrix\n",
    "def gram_matrix(tensor):\n",
    "  temp = tensor\n",
    "  temp = tf.squeeze(temp)\n",
    "  fun = tf.reshape(temp, [temp.shape[2], temp.shape[0]*temp.shape[1]])\n",
    "  result = tf.matmul(temp, temp, transpose_b=True)\n",
    "  gram = tf.expand_dims(result, axis=0)\n",
    "  return gram"
   ]
  },
  {
   "cell_type": "code",
   "execution_count": 46,
   "metadata": {
    "id": "eyss0i-4rJeM"
   },
   "outputs": [],
   "source": [
    "class Custom_Style_Model(tf.keras.models.Model):\n",
    "  def __init__(self, style_layers, content_layers, model):\n",
    "    super(Custom_Style_Model, self).__init__()\n",
    "    self.model =  mini_model(style_layers + content_layers, model)\n",
    "    self.style_layers = style_layers\n",
    "    self.content_layers = content_layers\n",
    "    self.num_style_layers = len(style_layers)\n",
    "    self.model.trainable = False\n",
    "\n",
    "  def call(self, inputs):\n",
    "    # Scale back the pixel values\n",
    "    inputs = inputs*255.0\n",
    "    # Preprocess them with respect to VGG19 stats\n",
    "    preprocessed_input = preprocess_input(inputs)\n",
    "    # Pass through the mini network\n",
    "    outputs = self.model(preprocessed_input)\n",
    "    # Segregate the style and content representations\n",
    "    style_outputs, content_outputs = (outputs[:self.num_style_layers],\n",
    "                                      outputs[self.num_style_layers:])\n",
    "\n",
    "    # Calculate the gram matrix for each layer\n",
    "    style_outputs = [gram_matrix(style_output)\n",
    "                     for style_output in style_outputs]\n",
    "\n",
    "    # Assign the content representation and gram matrix in\n",
    "    # a layer by layer fashion in dicts\n",
    "    content_dict = {content_name:value\n",
    "                    for content_name, value\n",
    "                    in zip(self.content_layers, content_outputs)}\n",
    "\n",
    "    style_dict = {style_name:value\n",
    "                  for style_name, value\n",
    "                  in zip(self.style_layers, style_outputs)}\n",
    "\n",
    "    return {'content':content_dict, 'style':style_dict}"
   ]
  },
  {
   "cell_type": "code",
   "execution_count": 47,
   "metadata": {
    "id": "BZIyJXFnrNwN"
   },
   "outputs": [],
   "source": [
    "# Note that the content and style images are loaded in\n",
    "# content and style variables respectively\n",
    "extractor = Custom_Style_Model(style_layers, content_layers, vgg)\n",
    "style_targets = extractor(style)['style']\n",
    "content_targets = extractor(content)['content']"
   ]
  },
  {
   "cell_type": "code",
   "execution_count": 48,
   "metadata": {
    "id": "PMl8WCdPrP4l"
   },
   "outputs": [],
   "source": [
    "opt = tf.optimizers.Adam(learning_rate=0.02)"
   ]
  },
  {
   "cell_type": "code",
   "execution_count": 49,
   "metadata": {
    "id": "d9CD1mGWrTd5"
   },
   "outputs": [],
   "source": [
    "# Custom weights for style and content updates\n",
    "style_weight=100\n",
    "content_weight=10\n",
    "total_variation_weight = 30 \n",
    "\n",
    "# Custom weights for different style layers\n",
    "style_weights = {'block1_conv1': 1.,\n",
    "                 'block2_conv1': 0.8,\n",
    "                 'block3_conv1': 0.5,\n",
    "                 'block4_conv1': 0.3,\n",
    "                 'block5_conv1': 0.1}"
   ]
  },
  {
   "cell_type": "code",
   "execution_count": 50,
   "metadata": {
    "id": "gurrI1eGrXSN"
   },
   "outputs": [],
   "source": [
    "# The loss function to optimize\n",
    "def total_loss(outputs):\n",
    "    style_outputs = outputs['style']\n",
    "    content_outputs = outputs['content']\n",
    "    style_loss = tf.add_n([style_weights[name]*tf.reduce_mean((style_outputs[name]-style_targets[name])**2)\n",
    "                           for name in style_outputs.keys()])\n",
    "    \n",
    "    \n",
    "    # Normalize\n",
    "    style_loss *= style_weight / num_style_layers\n",
    "\n",
    "    content_loss = tf.add_n([tf.reduce_mean((content_outputs[name]-content_targets[name])**2)\n",
    "                             for name in content_outputs.keys()])\n",
    "    \n",
    "    # Normalize\n",
    "    content_loss *= content_weight / num_content_layers\n",
    "    loss = style_loss + content_loss\n",
    "    return loss"
   ]
  },
  {
   "cell_type": "code",
   "execution_count": null,
   "metadata": {
    "id": "JA9LSnUMuKtL"
   },
   "outputs": [],
   "source": [
    "def total_variation_loss(image):\n",
    "  x_deltas, y_deltas = high_pass_x_y(image)\n",
    "  return tf.reduce_sum(tf.abs(x_deltas)) + tf.reduce_sum(tf.abs(y_deltas))"
   ]
  },
  {
   "cell_type": "code",
   "execution_count": 51,
   "metadata": {
    "id": "h5_gWKP_rZjV"
   },
   "outputs": [],
   "source": [
    "@tf.function()\n",
    "def train_step(image):\n",
    "  with tf.GradientTape() as tape:\n",
    "    # Extract the features\n",
    "    outputs = extractor(image)\n",
    "    # Calculate the loss\n",
    "    loss = total_loss(outputs)\n",
    "    loss += total_variation_weight*tf.image.total_variation(image)\n",
    "  # Determine the gradients of the loss function w.r.t the image pixels\n",
    "  grad = tape.gradient(loss, image)\n",
    "  # Update the pixels\n",
    "  opt.apply_gradients([(grad, image)])\n",
    "  # Clip the pixel values that fall outside the range of [0,1]\n",
    "  image.assign(tf.clip_by_value(image, clip_value_min=0.0, clip_value_max=1.0))"
   ]
  },
  {
   "cell_type": "code",
   "execution_count": 52,
   "metadata": {
    "id": "HWflMeT8rdIP"
   },
   "outputs": [],
   "source": [
    "target_image = tf.Variable(content)"
   ]
  },
  {
   "cell_type": "code",
   "execution_count": null,
   "metadata": {
    "id": "8K9VVvuSrffj"
   },
   "outputs": [],
   "source": [
    "epochs = 10\n",
    "steps_per_epoch = 100\n",
    "\n",
    "step = 0\n",
    "for n in range(epochs):\n",
    "  for m in range(steps_per_epoch):\n",
    "    step += 1\n",
    "    train_step(target_image)\n",
    "  plt.imshow(np.squeeze(target_image.read_value(), 0))\n",
    "  plt.title(\"Train step: {}\".format(step))\n",
    "  plt.show()"
   ]
  }
 ],
 "metadata": {
  "accelerator": "GPU",
  "colab": {
   "collapsed_sections": [
    "eqxUicSPUOP6",
    "xE4Yt8nArTeR",
    "7qMVNvEsK-_D",
    "Jt3i3RRrJiOX",
    "vJdYvJTZ4bdS",
    "F2Hcepii7_qh",
    "6KsbqPA8J9DY",
    "lGUfttK9F8d5",
    "y9r8Lyjb_m0u",
    "3DopXw7-lFHa",
    "LwiZfCW0AZwt"
   ],
   "name": "Neural Style Transfer.ipynb",
   "provenance": [],
   "toc_visible": true
  },
  "kernelspec": {
   "display_name": "Python 3",
   "language": "python",
   "name": "python3"
  },
  "language_info": {
   "codemirror_mode": {
    "name": "ipython",
    "version": 3
   },
   "file_extension": ".py",
   "mimetype": "text/x-python",
   "name": "python",
   "nbconvert_exporter": "python",
   "pygments_lexer": "ipython3",
   "version": "3.8.5"
  }
 },
 "nbformat": 4,
 "nbformat_minor": 1
}
